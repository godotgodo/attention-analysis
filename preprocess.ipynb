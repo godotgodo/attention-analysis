{
 "cells": [
  {
   "cell_type": "code",
   "execution_count": 25,
   "metadata": {},
   "outputs": [],
   "source": [
    "import pandas as pd\n",
    "import numpy as np\n",
    "from sklearn.preprocessing import MinMaxScaler\n",
    "import matplotlib.pyplot as plt\n",
    "import seaborn as sns"
   ]
  },
  {
   "cell_type": "code",
   "execution_count": 26,
   "metadata": {},
   "outputs": [],
   "source": [
    "df = pd.read_csv('attention_features.csv')"
   ]
  },
  {
   "cell_type": "code",
   "execution_count": 27,
   "metadata": {},
   "outputs": [
    {
     "name": "stdout",
     "output_type": "stream",
     "text": [
      "Eksik değerler:\n",
      " frame_number           0\n",
      "timestamp              0\n",
      "id                     0\n",
      "face_movement          0\n",
      "body_movement          0\n",
      "eye_openness_rate      0\n",
      "eye_direction_x        0\n",
      "eye_direction_y        0\n",
      "mouth_openness_rate    0\n",
      "yaw_angle              0\n",
      "pitch_angle            0\n",
      "roll_angle             0\n",
      "isAttentive            0\n",
      "dtype: int64\n"
     ]
    }
   ],
   "source": [
    "print(\"Eksik değerler:\\n\", df.isnull().sum())\n",
    "df.fillna(df.median(numeric_only=True), inplace=True)"
   ]
  },
  {
   "cell_type": "code",
   "execution_count": 28,
   "metadata": {},
   "outputs": [],
   "source": [
    "features_to_scale = [\n",
    "    'face_movement', 'body_movement',\n",
    "    'eye_openness_rate', 'eye_direction_x', 'eye_direction_y',\n",
    "    'mouth_openness_rate', 'yaw_angle', 'pitch_angle', 'roll_angle'\n",
    "]"
   ]
  },
  {
   "cell_type": "code",
   "execution_count": 29,
   "metadata": {},
   "outputs": [],
   "source": [
    "for col in features_to_scale:\n",
    "    df[col] = pd.to_numeric(df[col], errors='coerce')\n",
    "\n",
    "df[features_to_scale] = df[features_to_scale].fillna(df[features_to_scale].median())\n",
    "\n",
    "scaler = MinMaxScaler()\n",
    "df[features_to_scale] = scaler.fit_transform(df[features_to_scale])"
   ]
  },
  {
   "cell_type": "code",
   "execution_count": 30,
   "metadata": {},
   "outputs": [],
   "source": [
    "df['timestamp_sec'] = pd.to_timedelta(df['timestamp']).dt.total_seconds()"
   ]
  },
  {
   "cell_type": "code",
   "execution_count": 31,
   "metadata": {},
   "outputs": [],
   "source": [
    "df['isAttentive'] = df['isAttentive'].astype(str).str.strip().map({'True': 1, 'False': 0})"
   ]
  },
  {
   "cell_type": "code",
   "execution_count": 32,
   "metadata": {},
   "outputs": [
    {
     "name": "stdout",
     "output_type": "stream",
     "text": [
      "Preprocessing ok, normalized features saved to 'preprocessed_features.csv\n"
     ]
    }
   ],
   "source": [
    "df.to_csv('preprocessed_features.csv', index=False)\n",
    "print(\"Preprocessing ok, normalized features saved to 'preprocessed_features.csv\")"
   ]
  }
 ],
 "metadata": {
  "kernelspec": {
   "display_name": ".venv",
   "language": "python",
   "name": "python3"
  },
  "language_info": {
   "codemirror_mode": {
    "name": "ipython",
    "version": 3
   },
   "file_extension": ".py",
   "mimetype": "text/x-python",
   "name": "python",
   "nbconvert_exporter": "python",
   "pygments_lexer": "ipython3",
   "version": "3.9.18"
  }
 },
 "nbformat": 4,
 "nbformat_minor": 2
}
